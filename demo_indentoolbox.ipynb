{
 "cells": [
  {
   "cell_type": "code",
   "execution_count": 2,
   "id": "a7d8cb16-780c-4ff4-b961-db3cdd1c24a7",
   "metadata": {},
   "outputs": [],
   "source": [
    "%matplotlib ipympl\n",
    "import indentoolbox as itb\n",
    "import ipywidgets as widgets\n",
    "import matplotlib.pyplot as plt\n",
    "import numpy as np\n",
    "import datetime\n",
    "import os"
   ]
  },
  {
   "cell_type": "code",
   "execution_count": 6,
   "id": "2343bde4-e815-47b5-9f61-318c954b562e",
   "metadata": {},
   "outputs": [],
   "source": [
    "setup = {}"
   ]
  },
  {
   "cell_type": "code",
   "execution_count": 7,
   "id": "24e078ef-a5f4-4451-a769-9431045066d0",
   "metadata": {},
   "outputs": [],
   "source": [
    "setup[\"tip\"] = itb.core.SpheroConicalTip(angle = 70.3, \n",
    "                                         htrunc = 15.e-9, \n",
    "                                         young_modulus=1141.0e9, \n",
    "                                         poisson_coefficient=0.14)"
   ]
  },
  {
   "cell_type": "code",
   "execution_count": 34,
   "id": "a8273cf6-4df7-4e2f-9d11-cf6e90b610a8",
   "metadata": {},
   "outputs": [
    {
     "data": {
      "text/plain": [
       "[None, None, None, 'ConicalLoadingStep', 'Step', 'UnloadingStep']"
      ]
     },
     "execution_count": 34,
     "metadata": {},
     "output_type": "execute_result"
    }
   ],
   "source": [
    "#protocol = None # If left to None, the test protocol will be inferred by the parser.\n",
    "protocol = 3 * [None] + [\"ConicalLoadingStep\", \"Step\", \"UnloadingStep\"] # Use your own protocol: None ignores a step and otherwise a class name is provided\n",
    "protocol"
   ]
  },
  {
   "cell_type": "code",
   "execution_count": 35,
   "id": "2606b4e2-a812-4e9e-87a2-fffa6da03b27",
   "metadata": {},
   "outputs": [
    {
     "data": {
      "application/vnd.jupyter.widget-view+json": {
       "model_id": "4bd6826daf8d4e8cac9ce05bf900e63e",
       "version_major": 2,
       "version_minor": 0
      },
      "text/plain": [
       "VBox(children=(HBox(children=(VBox(children=(Dropdown(description='Format:', options=('hysitron nano', 'CSM'),…"
      ]
     },
     "execution_count": 35,
     "metadata": {},
     "output_type": "execute_result"
    }
   ],
   "source": [
    "itb.gui.file_processing_widgets(setup, protocol)"
   ]
  },
  {
   "cell_type": "code",
   "execution_count": 36,
   "id": "4e63d5a0-8ccb-490d-9f86-87870d599f02",
   "metadata": {},
   "outputs": [
    {
     "data": {
      "application/vnd.jupyter.widget-view+json": {
       "model_id": "4371ea300f65415bae434ee80f912320",
       "version_major": 2,
       "version_minor": 0
      },
      "text/plain": [
       "DatePicker(value=datetime.date(2023, 7, 5), description='Test date', step=1)"
      ]
     },
     "execution_count": 36,
     "metadata": {},
     "output_type": "execute_result"
    }
   ],
   "source": [
    "itb.gui.date_selection_widget(setup)"
   ]
  },
  {
   "cell_type": "code",
   "execution_count": 37,
   "id": "20c46e04-4587-49dc-9b73-c0845a95a1df",
   "metadata": {},
   "outputs": [
    {
     "data": {
      "text/plain": [
       "[Operator(name='Ludovic Charleux', institute='Institut de Physique de Rennes'),\n",
       " Operator(name='Mariette Nivard', institute='Institut de Physique de Rennes')]"
      ]
     },
     "execution_count": 37,
     "metadata": {},
     "output_type": "execute_result"
    }
   ],
   "source": [
    "operators = [\n",
    "    itb.core.Operator(name = \"Ludovic Charleux\", institute= \"Institut de Physique de Rennes\"),\n",
    "    itb.core.Operator(name = \"Mariette Nivard\", institute= \"Institut de Physique de Rennes\")]\n",
    "setup[\"operators\"] = operators\n",
    "operators"
   ]
  },
  {
   "cell_type": "code",
   "execution_count": 38,
   "id": "f2b35496-f0e6-48b5-8e4d-53070abd6808",
   "metadata": {},
   "outputs": [
    {
     "data": {
      "text/plain": [
       "Sample(name='Fused Quartz', provider='Hysitron')"
      ]
     },
     "execution_count": 38,
     "metadata": {},
     "output_type": "execute_result"
    }
   ],
   "source": [
    "sample = itb.core.Sample(name = \"Fused Quartz\", provider = \"Hysitron\")\n",
    "setup[\"sample\"] = sample\n",
    "sample"
   ]
  },
  {
   "cell_type": "code",
   "execution_count": 39,
   "id": "a99bca09-6b27-4817-9b0f-963513fabf82",
   "metadata": {},
   "outputs": [
    {
     "data": {
      "text/plain": [
       "Device(name='TI-950', institute='Institut de Physique de Rennes', compliance=0.0, provider='Hysitron')"
      ]
     },
     "execution_count": 39,
     "metadata": {},
     "output_type": "execute_result"
    }
   ],
   "source": [
    "device = itb.core.Device(name = \"TI-950\", institute = \"Institut de Physique de Rennes\", compliance = 0., provider = \"Hysitron\")\n",
    "setup[\"device\"] = device\n",
    "device"
   ]
  },
  {
   "cell_type": "code",
   "execution_count": 40,
   "id": "e8fd3f94-a62a-4424-9269-6cd21997e30a",
   "metadata": {},
   "outputs": [
    {
     "data": {
      "text/plain": [
       "{'tip': SpheroConicalTip(radius=2.413e-07, htrunc=1.50e-08, hcrit=1.41e-08),\n",
       " 'tests': [Test(3 steps), Test(3 steps), Test(3 steps), Test(3 steps)],\n",
       " 'date': datetime.date(2023, 7, 5),\n",
       " 'operators': [Operator(name='Ludovic Charleux', institute='Institut de Physique de Rennes'),\n",
       "  Operator(name='Mariette Nivard', institute='Institut de Physique de Rennes')],\n",
       " 'sample': Sample(name='Fused Quartz', provider='Hysitron'),\n",
       " 'device': Device(name='TI-950', institute='Institut de Physique de Rennes', compliance=0.0, provider='Hysitron')}"
      ]
     },
     "execution_count": 40,
     "metadata": {},
     "output_type": "execute_result"
    }
   ],
   "source": [
    "setup"
   ]
  },
  {
   "cell_type": "code",
   "execution_count": 41,
   "id": "4e1014da-621e-42c1-a115-922072ca948f",
   "metadata": {},
   "outputs": [
    {
     "data": {
      "text/plain": [
       "Batch(4 tests)"
      ]
     },
     "execution_count": 41,
     "metadata": {},
     "output_type": "execute_result"
    }
   ],
   "source": [
    "batch = itb.core.Batch(**setup)\n",
    "batch"
   ]
  },
  {
   "cell_type": "code",
   "execution_count": 42,
   "id": "bfe6d916-4f4e-4f82-af99-24a18c8db97f",
   "metadata": {},
   "outputs": [],
   "source": [
    "batch.dump(\"my_batch\")"
   ]
  },
  {
   "cell_type": "markdown",
   "id": "93186243-3e27-4d98-a6aa-f39a9b887b2f",
   "metadata": {},
   "source": [
    "## Post processing"
   ]
  },
  {
   "cell_type": "code",
   "execution_count": 43,
   "id": "2684933c-6e4b-4ccc-9138-7f33eeff4419",
   "metadata": {},
   "outputs": [
    {
     "data": {
      "text/plain": [
       "Batch(4 tests)"
      ]
     },
     "execution_count": 43,
     "metadata": {},
     "output_type": "execute_result"
    }
   ],
   "source": [
    "root_path = \"./my_batch\"\n",
    "batch = itb.core.Batch.load(root_path)\n",
    "batch"
   ]
  },
  {
   "cell_type": "code",
   "execution_count": 44,
   "id": "b93050e1-7d79-4d17-a912-9cd8d08cd0c7",
   "metadata": {},
   "outputs": [
    {
     "name": "stdout",
     "output_type": "stream",
     "text": [
      "          time          disp     force  step\n",
      "0      3.97437  2.476870e-10  0.000003     0\n",
      "1      3.97937  5.780340e-10  0.000004     0\n",
      "2      3.98437  1.063623e-09  0.000006     0\n",
      "3      3.98937  1.633712e-09  0.000008     0\n",
      "4      3.99437  2.344546e-09  0.000011     0\n",
      "...        ...           ...       ...   ...\n",
      "7994  43.94437  1.231350e-07  0.000022     2\n",
      "7995  43.94937  1.229267e-07  0.000017     2\n",
      "7996  43.95437  1.226304e-07  0.000012     2\n",
      "7997  43.95937  1.221842e-07  0.000008     2\n",
      "7998  43.96437  1.220285e-07  0.000004     2\n",
      "\n",
      "[7999 rows x 4 columns]\n"
     ]
    }
   ],
   "source": [
    "# TEST DATA\n",
    "print(batch.tests[0].data)"
   ]
  },
  {
   "cell_type": "code",
   "execution_count": 45,
   "id": "f61be90c-d3ae-4181-8c37-022701ac8187",
   "metadata": {},
   "outputs": [
    {
     "data": {
      "application/vnd.jupyter.widget-view+json": {
       "model_id": "48b5176e430c4443ab6c0a836e2719ac",
       "version_major": 2,
       "version_minor": 0
      },
      "image/png": "[encoded data removed]",
      "text/html": [
       "\n",
       "            <div style=\"display: inline-block;\">\n",
       "                <div class=\"jupyter-widgets widget-label\" style=\"text-align: center;\">\n",
       "                    Figure\n",
       "                </div>\n",
       "                <img src='data:image/png;base64,iVBORw0KGgoAAAANSUhEUgAAAoAAAAHgCAYAAAA10dzkAAAAOXRFWHRTb2Z0d2FyZQBNYXRwbG90bGliIHZlcnNpb24zLjcuMSwgaHR0cHM6Ly9tYXRwbG90bGliLm9yZy/bCgiHAAAACXBIWXMAAA9hAAAPYQGoP6dpAABovklEQVR4nO3de3zO9f/H8ce1o2Ezh2wIrcghQhRLSWEjOkgHRVQisgo5pBA6KJUcUjqQ6osOv1A5ZRHCmnOOLSQqNsphGDtdn98fn3Ztl12bw67Tdj3vt5vbrs/7/bk+n9f1ttnL+/15v98WwzAMRERERMRn+Hk6ABERERFxLyWAIiIiIj5GCaCIiIiIj1ECKCIiIuJjlACKiIiI+BglgCIiIiI+RgmgiIiIiI9RAigiIiLiY5QAioiIiPgYJYAiIiIiPkYJoIiIiIiPUQIoIiIi4mOUAIqIiIj4GCWAIiIiIj5GCaCIiIiIj1ECKCIiIuJjlACKiIiI+BglgCIiIiI+RgmgiIiIiI9RAigiIiLiY5QAioiIiPgYJYAiIiIiPkYJoIiIiIiPUQIoIiIi4mOUAIqIiIj4GCWAIiIiIj5GCaCIiIiIj1ECKCIiIuJjlACKiIiI+BglgCIiIiI+RgmgiIiIiI9RAigiIiLiY5QAioiIiPgYJYAiIiIiPkYJoIiIiIiPUQIoIiIi4mOUAIqIiIj4GCWAIiIiIj5GCaCIiIiIj1ECKCIiIuJjlACKiIiI+BglgCIiIiI+RgmgiIiIiI9RAigiIiLiY5QAioiIiPgYJYAiIiIiPkYJoIiIiIiPUQIoIiIi4mOUAIqIiIj4GCWAIiIiIj5GCaCIiIiIj1ECKCIiIuJjlACKiIiI+BglgCIiIiI+RgmgiIiIiI9RAigiIiLiYwI8HUBxZrVaOXjwIKGhoVgsFk+HIyIiIhfAMAxOnjxJ1apV8fPzzb4wJYBFcPDgQapXr+7pMEREROQS/Pnnn1x++eWeDsMjlAAWQWhoKGB+A4WFhTntupmZmSxdupSYmBgCAwOddl1fo3YsOrVh0akNnUPtWHRqw1ypqalUr17d9nvcFykBLIKcYd+wsDCnJ4ClS5cmLCzM539Ii0LtWHRqw6JTGzqH2rHo1Ib5+fLjW7458C0iIiLiw5QAioiIiPgYJYAiIiIiPkYJoIiIiIiPUQIoIiIi4mOUAIqIiIj4GCWAIiIiIj5GCaCIiIiIj1ECKCIiIuJj3J4Arlq1ijvuuIOqVatisViYP3++Xb1hGIwaNYoqVaoQEhJC27Zt2b17t905R48epVu3boSFhREeHk6vXr04deqU3Tlbt27l5ptvplSpUlSvXp3x48fni+Wrr76ibt26lCpVioYNG7Jo0SKnf14RERERb+P2BPD06dM0atSIqVOnOqwfP348kydPZtq0aSQmJlKmTBliY2M5e/as7Zxu3bqxY8cO4uPjWbBgAatWraJPnz62+tTUVGJiYqhZsyYbN27kjTfeYPTo0XzwwQe2c9auXcuDDz5Ir1692Lx5M3fffTd3330327dvd92HFxEREfECbt8LuEOHDnTo0MFhnWEYTJw4kREjRnDXXXcB8OmnnxIREcH8+fPp2rUru3btYsmSJaxfv55mzZoBMGXKFG6//XbefPNNqlatyqxZs8jIyGDGjBkEBQVxzTXXsGXLFiZMmGBLFCdNmkT79u0ZMmQIAC+99BLx8fG88847TJs2zQ0tISIiIuIZbk8AC7Nv3z6Sk5Np27atraxcuXI0b96chIQEunbtSkJCAuHh4bbkD6Bt27b4+fmRmJhI586dSUhIoFWrVgQFBdnOiY2N5fXXX+fYsWOUL1+ehIQEBg0aZHf/2NjYfEPSeaWnp5Oenm47Tk1NBcwNtjMzM4v68W1yruXMa/oitWPRqQ2LTm3oHGrHovPGNsxIO8mrH3TH/8+/+LzsPlLSLiOrbBaBGRW4/er2dG5+PXfXvdPp9/WmNvAUr0oAk5OTAYiIiLArj4iIsNUlJydTuXJlu/qAgAAqVKhgd05UVFS+a+TUlS9fnuTk5ELv48i4ceMYM2ZMvvKlS5dSunTpC/mIFyU+Pt7p1/RFaseiUxsWndrQOdSORedVbTjsbm7Ohg7d/zsOPgWpVWBSInNqLWJOpd+YM+hrQvxDnHrbtLQ0p16vOPKqBNDbDR8+3K7XMDU1lerVqxMTE0NYWJjT7pOZmUl8fDzt2rUjMDDQadf1NWrHolMbFp3a0DnUjkXnbW3oN2QI/klwNgAOvgkdLV+z2YjGkh2CkR0Me2MZ/VhLutxR3un3zhnB82VelQBGRkYCkJKSQpUqVWzlKSkpNG7c2HbO4cOH7d6XlZXF0aNHbe+PjIwkJSXF7pyc4/Odk1PvSHBwMMHBwfnKAwMDXfLD5Krr+hq1Y9GpDYtObegcasei84o2/P57mDQJgFJZcOJUHTZzDzVrGuzfbwEg+vrSjBxcGj8XTFf1+Of3Al61DmBUVBSRkZEsW7bMVpaamkpiYiLR0dEAREdHc/z4cTZu3Gg7Z/ny5VitVpo3b247Z9WqVXZj/PHx8dSpU4fy5cvbzsl7n5xzcu4jIiIiLnD8OLRvb1f0LG8RFpJpS/4AJkzAJcmfmNzetKdOnWLLli1s2bIFMCd+bNmyhQMHDmCxWBgwYAAvv/wy3377Ldu2baNHjx5UrVqVu+++G4B69erRvn17evfuzbp161izZg1xcXF07dqVqlWrAvDQQw8RFBREr1692LFjB1988QWTJk2yG7595plnWLJkCW+99Ra//voro0ePZsOGDcTFxbm7SURERHxHefsh3bl0ZhEdMQJye+Weew5atHB3YL7F7UPAGzZs4NZbb7Ud5yRlPXv2ZObMmQwdOpTTp0/Tp08fjh8/zk033cSSJUsoVaqU7T2zZs0iLi6ONm3a4OfnR5cuXZg8ebKtvly5cixdupT+/fvTtGlTKlWqxKhRo+zWCrzxxhuZPXs2I0aM4Pnnn6d27drMnz+fBg0auKEVREREfNAjj9gdGsAEBlGmjMHJk2bvX/368Oqr7g/N17g9AWzdujWGYRRYb7FYGDt2LGPHji3wnAoVKjB79uxC73Pttdfy008/FXrOfffdx3333Vd4wCIiIlJ0P/wAn3xiV/Qmg1nDTXA6t+yjj8BiQVxMo+siIiLiWn/8Ae3a2RX9SwWG8oZdWYUKoEfx3UMJoIiIiLjWOWvzArTx+xGAvItrLF/uroBECaCIiIi4zjnDvgC/cC2/WK+lenXI2WArLg4aNXJzbD7Mq9YBFBERkRJk3bp8Ez/OEsz1AZspWwr+/DO3fPRot0bm89QDKCIiIs53+jT8tz5vXu+WH0Fmlh9BQbll770HFSu6MTZRAigiIiJOZrVC2bL5ig9zGSPTXwDg6NHc8ieecFdgkkMJoIiIiDjXPfc4LB58x2+kpdmv8fLtt1r2xROUAIqIiIjzfP01fPNNvuIdHQYze1E4kZG5ZZ06wR13uDE2sdEkEBEREXEOqxXuvTdfcTZ+NFhsrvmXnJxbPm2auwKTc6kHUERERJzD399hcVxvc62Xyy7LLWvXDqpVc0dQ4ogSQBERESm6tWsdFhtvvsW0D80BxyNHzLLQUFi0yF2BiSNKAEVERKRoTp2Cli3zl3fpwv8qD8pXnJAAAXoIzaPU/CIiInLpDMPs0nMgY/b/8XgolCoFZ8/mll9zjZtikwKpB1BEREQu3fPPOy7PzmbsWMjIgMDA3OLVq90TlhROCaCIiIhcmrNn4bXX8penpLB1ux+vvGIenjxpfu3d2/FIsbifhoBFRETk4lmtjqfxDhwIlSszsrd9cenSMHGiWyKTC6AEUERERC5eAUu+MGECiYnmDh9lyphbAgO8/baZBIp30BCwiIiIXJynn3Zcnp6O1QotWpiHOckfQK9erg9LLpwSQBEREblwGzbAlCn5y48cgaAghgwxD/NO/Pjhh4I7DMUzlACKiIjIhcnKguuvz19+001QqRL79sGECWZRZqb59cUXoU0b94UoF0YJoIiIiFyYWrXyl5UtCz/9BMBtt9lXlSlT8Cox4llKAEVEROT8+vSB/fvzlx87BsDSpfDHH1ClSm5VXBwEBbknPLk4SgBFRESkcEOGwIcf5i9fuxYCAsjKgthYs+jQIfNrmTKOlwgU76AEUERERAp26hS8+Wb+8qeeguhoAL75xiwqVy63esUK14cml04JoIiIiDhWyD6/TJoEmOtBv/wyXH45nDhhVj3yCDRr5p4Q5dJoIWgRERFx7P77HZcfOAAWCwCvvw5btuRWBQTAuHGuD02KRj2AIiIikt/338P//V/+8saNoXp1AFJSzFm+AXm6kwYNgshI94Qol04JoIiIiNg7dAjat3dct2mT7WWfPubXrCzza0AAPPusi2MTp1ACKCIiIvaqVnVcnp5uG/odPNjc7zfvMi8TJkDlym6IT4pMCaCIiIjkeuopx+V//mnL9o4ehbfeMoszMsyvjRub6/5J8aAEUEREREzLl8M77+QvnzjRnOb7n6uusq8OC4P1622dg1IMKAEUEREROHiw4E17n3nG9vJ//4Pjx6FixdzqbdvsJ4KI91MCKCIiIlCtmuPynK09/pOzt++//5pfn3gCatRwYVziEkoARUREfF1OVneuP/+0W9Nl50746y+47LLcUxxtEiLeTwmgiIiIL9u50/HKza+/bvfc36lT0LIlRETAkSNmWZMmULasm+IUp9KIvYiIiK86dAiuucZx3dChdodffmk++xcSklv2+eeuC01cSz2AIiIivqqg9f5yNvX9T3IyjBxpbgt85oxZ9sQTcPXVLo5PXEY9gCIiIr6oXTvH5Wlp9t18wIAB5iThHHXrwpQprgtNXE89gCIiIr7m++/hhx/yly9dmi/5W78evvjC/lm/SZMgMNDFMYpLKQEUERHxJVu3Ot7nt0+ffL2CVivceKP5+tQp8+sNN0BMjItjFJdTAigiIuIjAtLSCGzWzHHl++/nK7rhBsjKsi/78UcXBCZupwRQRETER3R86CHHFenpDos2brQvGz4cSpd2QWDidkoARUREfIDlu+8cV+zYAUFBdkWZmdChg/1p3bvDq6+6KDhxOyWAIiIiJd3x4wR06ZK//MknoX79fMUrV5pDvTnzQUJCYPp0F8cobqUEUEREpCTLyIDy5R3XTZiQryg93ZwPEhaWu+bfN9/k6ySUYk7rAIqIiJRU2dkQHOy47vRph3UPPgj79uUeR0ZC27Yuik88Rj2AIiIiJVWevXzt7NzpcDZHYiLMm2dfFh8PFosLYhOPUgIoIiJSEiUmmnu4nSPr22+hXr185YYBcXFQrlxu2aBB0KCBK4MUT1ECKCIiUtJs2wYtWuQrPhgdjeFoEWjgs89gwwbzkcEc48e7KkDxNCWAIiIiJUl2Nlx7rcOq9cOGOSzPzISePc2h3pyJH++8A/7+rgpSPE0JoIiISEkS4Hh+Z+a//xb4lr59za+GkVvWv78zgxJvowRQRESkpBg40HH5vHkQGuqw6uBBmDHDfpkXB6vDSAmjBFBERKQk+PxzmDgxf3mnTnD33QW+rXFj82vOs3+NGxecR0rJoQRQRESkuEtLMxfwc+Tbbwt826ZNcOSI/bN+hZwuJYgSQBERkeLMaoWyZR3XZWcXuIhfWho0bZp7GsDYsVC9ugtiFK+jBFBERKQ4K1cud/ZG3q68rVvBr+Bf8889Z39cvnz+Mim5vC4BzM7OZuTIkURFRRESEsJVV13FSy+9hJFnapJhGIwaNYoqVaoQEhJC27Zt2b17t911jh49Srdu3QgLCyM8PJxevXpx6tQpu3O2bt3KzTffTKlSpahevTrjteCRiIgUJ3PnQt7fbTldeffdBw0bFvi2Q4fgvfcgMDC37OOP7Y+lZPO6BPD111/nvffe45133mHXrl28/vrrjB8/nilTptjOGT9+PJMnT2batGkkJiZSpkwZYmNjOXv2rO2cbt26sWPHDuLj41mwYAGrVq2iT58+tvrU1FRiYmKoWbMmGzdu5I033mD06NF88MEHbv28IiIil2TDBujSJX/5PffAl18W+DbDgFq1ICvLXP8vx513uiBG8VqOFwvyoLVr13LXXXfRsWNHAK644grmzJnDunXrALP3b+LEiYwYMYK77roLgE8//ZSIiAjmz59P165d2bVrF0uWLGH9+vU0a9YMgClTpnD77bfz5ptvUrVqVWbNmkVGRgYzZswgKCiIa665hi1btjBhwgS7RFFERMTrHDoE11/vuO7rrwt964wZFtLSco/LlYO9e7Xfr6/xuh7AG2+8kWXLlvHbb78B8Msvv7B69Wo6dOgAwL59+0hOTqZt27a295QrV47mzZuTkJAAQEJCAuHh4bbkD6Bt27b4+fmRmJhoO6dVq1YE5Vn4KDY2lqSkJI4dO+byzykiInJJrFaoWtVx3cGDhb715MlA+vWz7/v55huoWNFZwUlx4XU9gM899xypqanUrVsXf39/srOzeeWVV+jWrRsAyf9tbB0REWH3voiICFtdcnIylStXtqsPCAigQoUKdudERUXlu0ZOXfny5fPFlp6eTnp6uu04NTUVgMzMTDLz9qMXUc61nHlNX6R2LDq1YdGpDZ1D7ZgrMO+KzXlk/fgjRqVK9uO6eWRmZvLFF3Xsypo2tXLjjdkFvaXE0veRFyaAX375JbNmzWL27Nm2YdkBAwZQtWpVevbs6dHYxo0bx5gxY/KVL126lNKlSzv9fvHx8U6/pi9SOxad2rDo1IbO4evteOPIkVzmoPx05cr8cOIELFpU4Ht/+608Cxa0AgzAHO/t3z+eRYvOFviekiot7xi4j/K6BHDIkCE899xzdO3aFYCGDRuyf/9+xo0bR8+ePYmMjAQgJSWFKlWq2N6XkpJC4/+WM4+MjOTw4cN2183KyuLo0aO290dGRpKSkmJ3Ts5xzjnnGj58OIMGDbIdp6amUr16dWJiYggLCyvCp7aXmZlJfHw87dq1I1BTsi6Z2rHo1IZFpzZ0DrUjcOAAgdu25Su2NmlC0M8/c3shD/GdOgV3353TbuZ5cXHZdO9+mysi9Xo5I3i+zOsSwLS0NPzOWbfI398fq9UKQFRUFJGRkSxbtsyW8KWmppKYmEi/fv0AiI6O5vjx42zcuJGm/61yuXz5cqxWK82bN7ed88ILL5CZmWn7xyQ+Pp46deo4HP4FCA4OJjg4OF95YGCgS/5BctV1fY3asejUhkWnNnQOn27HWrXylwUH47dhQ77fm+d68smcVzlLqlkYO9afwED/At5Rsvns91AeXjcJ5I477uCVV15h4cKF/PHHH8ybN48JEybQuXNnACwWCwMGDODll1/m22+/Zdu2bfTo0YOqVaty9397HdarV4/27dvTu3dv1q1bx5o1a4iLi6Nr165U/e/B2YceeoigoCB69erFjh07+OKLL5g0aZJdD5+IiIhXGDrUcfmBA4Uu9gzwww/mNsEBATlDvxZuv91c+Fl8l9f1AE6ZMoWRI0fy5JNPcvjwYapWrcoTTzzBqFGjbOcMHTqU06dP06dPH44fP85NN93EkiVLKFWqlO2cWbNmERcXR5s2bfDz86NLly5MnjzZVl+uXDmWLl1K//79adq0KZUqVWLUqFFaAkZERLzL0qXwxhv5y8eNg3MmPJ4rMxPatTNfZ2XlDhHPn+/E+KRY8roEMDQ0lIkTJzJx4sQCz7FYLIwdO5axY8cWeE6FChWYPXt2ofe69tpr+emnny41VBEREdfavh1iY/OXN2x4Qfu2xcXZHwcEZLN6tVVDoOJ9Q8AiIiIC/Ptvwdu5bd163refPg1z5pgLPed46KFfue46J8UnxZoSQBEREW+TlgaVKjmuy8o679szMqBDBzh5Ek6cyC3v1Ol3JwUoxZ0SQBEREW9Tpozj8sWLwf/8M3fHjYNzn3B6+ulsgoKsTghOSgIlgCIiIt6kQQPH5Xv2QPv25337mTMwerR9WePG8OabSv4klxJAERERb9G4MezYkb88Lg6uuuqCLnH//fnLvvmmaGFJyaMEUERExBusWAG//OK4bsqUC7rEoUOwYAFUrJhbNmYM1KhR9PCkZFECKCIi4mm7dsGttzquO3Pmgi5hGPDfXgf8+29ueZ5ldEVslACKiIh4UnIy1K/vuO6vvyDPJgeFGTnS/Jp3S+ANG4oYm5RYSgBFREQ8JTsb/tuzPp/33oNq1S7oMjt3wiuvmJOHDcOcKHzffQVfWkQJoIiIiKeUKQMHD5qvo6Jyy1u1gr59L+gShgG3326+Pn3a/JqdDYVsliWiBFBERMQjBg6E9PTc4337zK9dusDKlRd8mZdfhv377cvGj4e6dZ0Qo5RYSgBFRETcbcMGcLTnfcWK8NVXF3yZ1NT8kzzCw2HIkCJFJz5ACaCIiIg77d8P11/vuO6PP+xncZxHzr6+ed/yu3Z7kwugBFBERMRdDAOuuMJx3XffQdmyF3ypLVtg717w8zMvC3DnnVC+fJGjFB+gBFBERMRd7r3XcfmoUdCp00VdKmdXOOt/O7yFhcH8+ZcemviWAE8HICIi4hMaN3a808ctt5jbdVyE11+HlBQICICsLLNs6dKLGj0WH6ceQBEREVdr3rzgbd6+/vqiLpWaCs89Z77OSf7GjjVvIXKh1AMoIiLiSgsWwLp1juuys82H+C6QYUC5cvnL+/W7xNjEZ6kHUERExFVWroQ77nBcd+TIRSV/AJ9+mr9s1iyoVOkSYhOfpgRQRETEFY4cgdatHdetWXPRWduOHfDII/ZlDzwADz10SdGJj1MCKCIi4mzZ2VC5suO69u3hxhsv+pLnJn8AM2Zc9GVEACWAIiIizmUY5vRcR8LDYfHii77k0qXm5iF5n/97800oXfrSQhRRAigiIuJMXbsWXPfvvxd9OcOA2Fjz9YkT5leLBQYMuPjQRHIoARQREXGW+fPhyy8d1x09etGTPgCmT89f9vff4O9/0ZcSsdEyMCIiIs7w00/QubPjutOnL2m81jCgd2/7svvvhypVLiE+kTzUAygiIlJUu3dDq1aO6w4evOSH9Z55Jn/ZpEmXdCkRO0oARUREiuLvv+Hqqx3XzZlzyd11u3bBlCn2Q70ffACRkZd0ORE7SgBFREQuldUKl1/uuG7GjMInhBTCMHJ7/7Kzza/t2uUfDha5VEoARURELlXe7rmyZXNf9+wJjz56yZedPh3i4+3LtOafOJMSQBERkUsxd6798alTua8dTd29QCdPmmv8BQbmlj35ZMEdjSKXQgmgiIjIxXrlFejSxXHdqVNFWqOlUydISoLMTPM4IgKmTr3ky4k4pARQRETkYhw4ACNGOK47fBjKlLnkS7/wAqxaZV+WkHDJlxMpkBJAERGRC/Xbb1CzpuO6gwfhsssu+dJJSfDqq/Zls2dDVNQlX1KkQEoARURELkR6OtSpU3B9EVZnzs6GHj3sy66+Gh588JIvKVIoJYAiIiLnY7XCddcVXJ/zwN4luvNOWLfO3OM3xzvvFOmSIoXSVnAiIiKFsVohPNycnutIejoEXPqvU6sVNmwwXxuG+fXpp811/0RcRQmgiIhIYQqb0XvwIAQFFeny3bubc0dyhITA228X6ZIi56UhYBERkYIUNg77119Feu4PzJ3i5syxL/vwQ/DTb2dxMX2LiYiIOPLqq/DUU47rrrsOqlUr0uVPnICHHrIva9kSunUr0mVFLogSQBERkXMdOGAuyudIhw6wcWORb+Eo0fvyyyJfVuSCKAEUERHJa8eOgtf6q14dFi0q8i3WrIGFC+0fH1y7FqpWLfKlRS6IEkAREZEcVis0aJB7fMUV9vX79hX5FtnZ5tBv6dKQkWGWjRwJ0dFFvrTIBdMsYBERETDXYImMzD0ODIQ//sg9zsoq0h6/OaZMMeePWK3mcdmyMGZMkS8rclHUAygiIgJw//1w5Ejucd7Fnc+ccUryd/AgDBxov2Pc3Ln2C0CLuIN6AEVERArLwFatglKlnHKbnFm/KSnm19hYLfgsnqEEUEREfNtHHxVcl5AALVo45TbTpsHKlfZln37qlEuLXDQNAYuIiO8aPRp693ZcN32605K/pUuhXz+4/PLcslKloHJlp1xe5KIpARQREd80f37Bsy86d4bHHnPKbTIzzaFegL//Nr9eeSUcO+aUy4tcEiWAIiLie44cMZO8gsyd67RbPf64+TUoyJxoDDBokNMeKxS5JEoARUTEtxw7VvjYa3a202514kTuc345a/4FBprDwSKepARQRER8R1oaVKhQcP2RI+DnvF+N3bubX/NOMv7nH6feQuSS5JsF/O233170Rdq1a0dISIhTAhIREXEJw4AyZXKPH3gAvvgi9/jkSXNVZif57DNYsMAc+s3p/VuzBsLCnHYLkUuWLwG8++67L+oCFouF3bt3c+WVVzorJhEREecyDPtutxo17JO/f/91avKXlQU9epivc5K/Tp3gxhuddguRInHYCZ2cnIzVar2gP6VLl3Z3zCIiIhdnzhz74wMHcl/v31/4sPAleOIJ++Ny5WDmTKfeQqRI8iWAPXv2vKjh3O7duxOm/mwREfFWw4ZBt27m64BzBr4WLTJ7A50oPh5mzLAvmzABKlZ06m1EiiTfEPDHH398URd47733nBaMiIiIU739Nowfn3uclZX7etIk6NDB6bccOND+uFkzePRRp99GpEi8ch7S33//Tffu3alYsSIhISE0bNiQDRs22OoNw2DUqFFUqVKFkJAQ2rZty+7du+2ucfToUbp160ZYWBjh4eH06tWLU6dO2Z2zdetWbr75ZkqVKkX16tUZn/cfCRERKd4OHjQX3HNk7Vp4+mmn3/L//g927LAvW7688K2GRTzB6xLAY8eO0bJlSwIDA1m8eDE7d+7krbfeonz58rZzxo8fz+TJk5k2bRqJiYmUKVOG2NhYzp49azunW7du7Nixg/j4eBYsWMCqVavo06ePrT41NZWYmBhq1qzJxo0beeONNxg9ejQffPCBWz+viIi4QGoqVKvmuO6eeyA62um3zMgwNxbJ+zhhnz4QGur0W4kUWb4hYAA/Pz8s5/nvisViIStvV7qTvP7661SvXt1uKDoqKsr22jAMJk6cyIgRI7jrrrsA+PTTT4mIiGD+/Pl07dqVXbt2sWTJEtavX0+zZs0AmDJlCrfffjtvvvkmVatWZdasWWRkZDBjxgyCgoK45ppr2LJlCxMmTLBLFEVEpJhJSoIbbsg9vvpq+O038/UNN8DXX7vktiNHwvbt9mV6Skq8lcMEcN68eQW+ISEhgcmTJ2O1Wl0S0LfffktsbCz33XcfK1eupFq1ajz55JP0/m+z7n379pGcnEzbtm1t7ylXrhzNmzcnISGBrl27kpCQQHh4uC35A2jbti1+fn4kJibSuXNnEhISaNWqFUFBQbZzYmNjef311zl27Jhdj6OIiBQT6elQt659WU7yd+WVkJjoktuePGlO9Mhr61Yt+Czey2ECmNOzlldSUhLPPfcc3333Hd26dWPs2LEuCej333/nvffeY9CgQTz//POsX7+ep59+mqCgIHr27ElycjIAERERdu+LiIiw1SUnJ1P5nG1+AgICqFChgt05eXsW814zOTnZYQKYnp5Oenq67Tg1NRWAzMxMMjMzi/Kx7eRcy5nX9EVqx6JTGxad2tA5LqgdT58moEIFcsavjLp1sfz6a+41du0CF/w9nD4N/fv7/zdyZt69c2crdetmu+J2l0zfi7nUBgUkgHkdPHiQF198kU8++YTY2Fi2bNlCgwYNXBaQ1WqlWbNmvPrqqwA0adKE7du3M23aNHr27Omy+16IcePGMWbMmHzlS5cudcl6iPHx8U6/pi9SOxad2rDo1IbOUWA7GgZ3de5sOzx+xRWE50n+Fs6ZQ9bixS6Jadiwm0lKqoDFYgAGERGnuffelSxa5PzHpJxB34uQlpbm6RA8rsAE8MSJE7z66qtMmTKFxo0bs2zZMm6++WaXB1SlShXq169vV1avXj2+/u+ZjcjISABSUlKoUqWK7ZyUlBQaN25sO+fw4cN218jKyuLo0aO290dGRpKSkmJ3Ts5xzjnnGj58OIPyzChLTU2levXqxMTEOHUtxMzMTOLj42nXrh2BgYFOu66vUTsWndqw6NSGznG+dgyoU8fuOPyPP3Lfu3s3MTVruiSupCRISgoEDAzD7P376qtStGgR45L7FYW+F3PljOD5MocJ4Pjx43n99deJjIxkzpw5DoeEXaVly5YkJSXZlf3222/U/O+HNyoqisjISJYtW2ZL+FJTU0lMTKRfv34AREdHc/z4cTZu3EjTpk0BWL58OVarlebNm9vOeeGFF8jMzLT9IMTHx1OnTp0Cn/8LDg4mODg4X3lgYKBLfphcdV1fo3YsOrVh0akNncNhO159NezbZ76+7DI4ciS3bvduAmvVclk8116b88pM/oKC4Oabzzu45lH6XsTnPz8UkAA+99xzhISEUKtWLT755BM++eQTh2+eO3eu0wMaOHAgN954I6+++ir3338/69at44MPPrAtz2KxWBgwYAAvv/wytWvXJioqipEjR1K1alXbPsb16tWjffv29O7dm2nTppGZmUlcXBxdu3alatWqADz00EOMGTOGXr16MWzYMLZv386kSZN4++23nf6ZRETERYYMgbzrwOYkf6Gh8PPP4MLk78svzS2G8zpnSVoRr+UwAezRo8d5l4Fxleuvv5558+YxfPhwxo4dS1RUFBMnTqRbzjY+wNChQzl9+jR9+vTh+PHj3HTTTSxZsoRSpUrZzpk1axZxcXG0adMGPz8/unTpwuTJk2315cqVY+nSpfTv35+mTZtSqVIlRo0apSVgRESKi8J+T61ZA+c8TuRMSUnwwAP2ZevXO31XORGXcZgAzvTwjtWdOnWiU6dOBdZbLBbGjh1b6EzkChUqMHv27ELvc+211/LTTz9dcpwiIuIhL7xQcN24cdCwoUtvP3q0/XFQkLnlm0hxcUkrFB05coQ5c+Y4OxYREZHzW78e/lspwqHnnnPp7b/5Bj7/PPe4Rg04dsyltxRxukKfVC2oh23v3r3MnTuXBx980CVBiYiIOJScbL/LR16DB8Mbb7j09nv2wH+Pm9v8+CO4YCUwEZcqNAE8d0eQ7Oxs/vzzT1JTU3n55ZddGpiIiEhegSdPEljQQ3aNG7s8+cvKgpgYM9nLWUbuqafMDUZEiptCE8DNmzfnK8vKymLAgAHs2LHDZUGJiIjYSUvj9ocfLrh+0yaXhzB1au5qMznGjXP5bUVc4qIXKwoICGDAgAFcm7v4kYiIiOsYBoHh4QXXnzhR+IxgJzhxAiZPhuBgc7thgPHjoUwZl95WxGUuaRLI/v378+2jKyIi4nQnToBfIb+qjhwBJ+7E5IhhmEu+7N+fm/y1aGEuQShSXBXaA5h33bwcKSkpzJgxgzvuuMOu/umnn3Z+dCIi4tvy7D2fFRxMQE4GBnD4MFSq5PIQPvoIvv/evmzVKpffVsSlCk0AC9oVo1SpUsTHx9s2lLZYLEoARUTEufr3h7/+AsB69dUE/PZbbt0//0DFii4P4cgROPfX29NPg3YSk+Ku0ARw37lPu4qIiLhD3mf66tbF79dfc49PnXLbw3d9+8LZs/Zlb73llluLuFS+Byu2bt2K1Wq94Avs2LGDrKwspwYlIiI+rE6d3NfBwZAn+cvcs8dtyd+nn8Lcufa56LZtEHDR0ydFvE++BLBJkyb8+++/F3yB6OhoDhw44NSgRETER736KuQM9ZYvnzvrAlgzZozbNtv96y+z9w/MSSAAt99u90iiSLGW7/8xhmEwcuRISl/gsuYZGRlOD0pERHxQr14wY0bucZ791TIPHuSfdevcEobVCh07wpkzuWVBQbBggVtuL+IW+RLAVq1akZSUdMEXiI6OJiQkxKlBiYiIj+nSxRxvdeSPP9wy2zfHqFGwdSv4+0N2tlm2eLHLlxoUcat8CeCKFSs8EIaIiPisuXMLTv5Wr4aaNSEz0y2h7N8Pr7xivs5J/qpVg9tuc8vtRdxGj7KKiIjn9OsH06Y5rtu3D664wm2hGIa58kzenj+AixgUEyk2lACKiIhnxMcXnPytWOHW5A9g9mxYuNC+bOVKbfcmJZMSQBERcb+FC6FTJ8d1v/wCbt5vfu1a6N7dvqxePWjVyq1hiLhNgRss7t+/n++++451bpp1JSIiPmL69IKTv59/dnvyd+qUucSLv795HBQElSubEz9ESiqHPYBz5szhkUceITMzE4vFQpMmTVi8eDGXXXaZu+MTEZGS5Kuv4PHHHdetWAHNm7s1HICuXeHEidzjjAxz6LdmTbeHIuI2DnsAx4wZw0MPPcSvv/7K0qVLAXjuuefcGpiIiJQwAwbA/fc7rvvpJ7jlFreGA7B3b/7n/h58EOrWdXsoIm7lsAfw999/Z8mSJVxxxRVcffXV/O9//6Np06ZMnz7d3fGJiEhJsG0bTJrkuM7Ns31zGAbUqpW/fOZMt4ci4nYOewCzsrLsdgKpW7cuVquV5ORktwUmIiIlxM6dBT/XN3GiR5I/gPfey1+2apX5DKBISVfgJJBPPvmEtWvXcurUKQACAgJIS0tzW2AiIlICzJ8P11zjuO7ll+GZZ9waTo5Dh+DZZ+2XeOnaFW6+2SPhiLidwyHgm2++mZdffpmTJ0/i5+dHVFQUZ8+eZfr06bRt25ZmzZoRGhrq7lhFRKQ42bYNOnd2XPfMM/DCC+6N5z+GAX37Qnq6+TqHhn7FlzhMAFeuXAnA7t272bhxI5s2bWLTpk289957jBs3Dj8/P2rXrs2uXbvcGqyIiBQTa9bATTc5ruvVC956y73x5PH++/DttxASAmfOmGUxMRAc7LGQRNyu0IWga9euTe3atenatautbN++fWzYsIHNmze7PDgRESmGVq0qeEZvy5bw0UfujSeP7dth0CCoUAGOHjXLnnii4A1JREqqi94JJCoqiqioKO677z5XxCMiIsXZyZMFJ3/9+sG777o3njyys6FhQ/N1Ts/f9dfDO+94LCQRjylwEoiIiMhFOXkSwsIc102d6tHkD6BPH/vjUqXghx8gQJuiig9SAigiIkWXlGSf/OVZSoyRI+HJJ90fUx4//AAzZtiXdetWcL4qUtIpARQRkaL55Zf8W2fkLBtWuzaMHev+mM7x7LP2x926mZNBRHyVEkAREbl0v/8OjRs7rps8GX77za3hOPLOO7B1q33ZJ5+Av79n4hHxBkoARUTk0mzcCFdd5bju0UchLs698Tiwfz889RT45flt98QTSv5ELjkB9PPz47bbbmPjxo3OjEdERIqDEyegWTPHdZMmmQ/cWSzujekchpG7y5zVan6tVcvxFnAivuaSE8AZM2bQqlUr+vfv78x4RETE223fDjVr5h5Xrpz7esQIePpp98fkQOvW+ct+/tnjeamIV7jkye+PPPIIAKNHj3ZSKCIi4vX++it3Mb0chw+bX99+GwYMcHtIjuzYYa5Hndc770DFip6JR8Tb6BlAERG5MPv3Q/Xqjuvi4rwm+bNazb1+87rhBnMdahExnTcB/Omnn+jevTvR0dH8/fffAHz22WesXr3a5cGJiIiX2LAh94G6cz31FEyZ4tZwCvPGG5D3V1TlyrBypf1EEBFfV+iPw9dff01sbCwhISFs3ryZ9PR0AE6cOMGrr77qlgBFRMTDZs8290xz5M03zeVevMSWLfDcc/bP+a1YYe76ISK5Ck0AX375ZaZNm8aHH35IYGCgrbxly5Zs2rTJ5cGJiIiHffaZuWqyI1FR+VdY9qDMTGjSxHxtGObXt96CevU8F5OItyo0AUxKSqJVq1b5ysuVK8fx48ddFZOIiHiD55+HHj0c1z3wAOzd6954ziMoyP64QQMYONAzsYh4u0ITwMjISPbs2ZOvfPXq1Vx55ZUuC0pERDysf38YN85x3cCB8PnnXrWeypo1+cvWrvWqEEW8SqEJYO/evXnmmWdITEzEYrFw8OBBZs2axeDBg+mn6VQiIiVTv37w7ruO62bOhAkT3BrO+aSlQadO9mW1akFoqGfiESkOCl0H8LnnnsNqtdKmTRvS0tJo1aoVwcHBDB48mKeeespdMYqIiLs0aWLOpDiXnx8sXQpt2rg9pPMZNQrOfSpp3jyPhCJSbBSaAFosFl544QWGDBnCnj17OHXqFPXr16ds2bLuik9ERNxl2DDHyR/AunXQtKlbw7kQe/eaEz3yWr/efP5PRApWaAI4btw4IiIieOyxx6hfv76tfMaMGRw5coRhw4a5PEAREXGDvn3h/fcd1y1Z4pXJ38GD+eeofPddwVsUi0iuQp8BfP/996lbt26+8muuuYZp06a5LCgREXETwzB38MhJ/kqXtq9PSoLYWLeHdT6GAd27mxM9cpQtCx07ei4mkeKk0B7A5ORkqlSpkq/8sssu49ChQy4LSkRE3CA7G665xkzycqSl5b7esQOuvtr9cV2AiRPhxx/ty378UbN+RS5UoT2A1atXZ42DufVr1qyhatWqLgtKRERcLCsLAgLsk7+8Nm2CPI/+eJO1a2HQIDP8HIsWaehX5GIU2gPYu3dvBgwYQGZmJrfddhsAy5YtY+jQoTzrRau/i4jIRTAM6NIl9zggwEwIcxw+DJdd5v64LkBGBrRsab7OCfnWW6FDB8/FJFIcFZoADhkyhH///Zcnn3ySjIwMAEqVKsWwYcMYPny4WwIUEREn+uef/Mld3uRv3z6vTf4AoqPz/9qaPt0DgYgUc+ddBub1119n5MiR7Nq1i5CQEGrXrk1wcLC74hMREWfZvbvwZ/pOnICwMPfFc5EWLIhi2zYLFkvuXr8LF5pbEovIxSnwGcDMzEzatGnD7t27KVu2LNdffz0NGjRQ8iciUhytXWuf/J07wS8tzauTvwMH4KOPrgVyk7/774fbb/dgUCLFWIE9gIGBgWzdutWdsYiIiCusW5f74FyOvCs5WK1eP332nnvsf11dfTV89pmHghEpAQqdBdy9e3em6+EKEZHi6/BhaN684PpikPw99RRs3Wof45QpEBTkoYBESoBCnwHMyspixowZ/PDDDzRt2pQyZcrY1U/wsg3BRUQkj48/hscec1w3fLi5ia6XJ3+7dpkfo1Qpg7NnzVjbtIGYGA8HJlLMFZoAbt++neuuuw6A3377za7O4uX/aIiI+LTvvrNP/kJD4eRJ83W3bvDqq56J6yI9+SScPg2Q+ztn9myPhSNSYhSaAP547jLrIiLi/aZPh8cfty/LSf769YN333V/TJfgww9hxQr7sgULsqhcudBfXSJyAQp9BtAbvPbaa1gsFgYMGGArO3v2LP3796dixYqULVuWLl26kJKSYve+AwcO0LFjR0qXLk3lypUZMmQIWXnXugJWrFjBddddR3BwMLVq1WLmzJlu+EQiIi70f/+XP/nL0a1bsUn+/v4bRoywH6GOjd1HTIzhuaBESpDz/jfq+PHjTJ8+nV27dgFQv359evXqRbly5Vwe3Pr163n//fe59tpr7coHDhzIwoUL+eqrryhXrhxxcXHcc889tm3rsrOz6dixI5GRkaxdu5ZDhw7Ro0cPAgMDefW/YY99+/bRsWNH+vbty6xZs1i2bBmPP/44VapUIdYLNz4XESmU1WquifL99+Zx3iFfgM8/hwce8Exsl6B3bzh6NHfJF4DHHtsOXO6xmERKkkJ7ADds2MBVV13F22+/zdGjRzl69Chvv/02V111FZs2bXJpYKdOnaJbt258+OGHlC9f3lZ+4sQJpk+fzoQJE7jtttto2rQpH3/8MWvXruXnn38GYOnSpezcuZP//e9/NG7cmA4dOvDSSy8xdepU244m06ZNIyoqirfeeot69eoRFxfHvffey9tvv+3SzyUi4hLh4bnJX/ny9snfqFHFKvmbPBkWL4bsbPM4MBBWrswiONjq2cBESpBCewAHDhzInXfeyYcffkjAf7tuZ2Vl8fjjjzNgwABWrVrlssD69+9Px44dadu2LS+//LKtfOPGjWRmZtK2bVtbWd26dalRowYJCQm0aNGChIQEGjZsSEREhO2c2NhY+vXrx44dO2jSpAkJCQl218g5J+9Q87nS09NJT0+3HaempgLmotmZmZlF/cg2Oddy5jV9kdqx6NSGRefyNjQM/G+5Bb+8Cd+xY7aXWYsWYbRtC8Xk73D1agvPPBOAv79BdrY5/vvuu1k0a5ZBfLy+F4tCP8+51AbnSQA3bNhgl/wBBAQEMHToUJo1a+ayoD7//HM2bdrE+vXr89UlJycTFBREeHi4XXlERATJycm2c/Imfzn1OXWFnZOamsqZM2cICQnJd+9x48YxZsyYfOVLly6ldOnSF/4BL1B8fLzTr+mL1I5FpzYsOle0YcDp03Ts1q3A+vWDB3MwIwMWLXL6vV3BMGD06Gigsi35s1ishIcvJj7e7P3T92LRqQ0hLS3N0yF4XKEJYFhYGAcOHKBu3bp25X/++SehoaEuCejPP//kmWeeIT4+nlKlSrnkHpdq+PDhDBo0yHacmppK9erViYmJIcyJWyhlZmYSHx9Pu3btCAwMdNp1fY3asejUhkXnsjbcto2AFi0Kvu8//9A4LIzGzrujyz3/vB+//OJvV3bsWDalS7fX96ITqA1z5Yzg+bJCE8AHHniAXr168eabb3LjjTcCsGbNGoYMGcKDDz7okoA2btzI4cOHbesPgjmpY9WqVbzzzjt8//33ZGRkcPz4cbtewJSUFCIjIwGIjIxk3bp1dtfNmSWc95xzZw6npKQQFhbmsPcPIDg42OFeyIGBgS75YXLVdX2N2rHo1IZF59Q2XLUKbrml4Ppjxwg8Z5TE2735pvknr88+g3Ll7NtM34tFpzbE5z8/nCcBfPPNN7FYLPTo0cO2hEpgYCD9+vXjtddec0lAbdq0Ydu2bXZljz76KHXr1mXYsGFUr16dwMBAli1bRpcuXQBISkriwIEDREdHAxAdHc0rr7zC4cOHqVy5MmB2eYeFhVG/fn3bOYvOGRaJj4+3XUNExCt9/TXce6/juquugt27vX53j3MdOQJDhtiXxcRA9+6eiUfEFzhMAH///XeioqIICgpi0qRJjBs3jr179wJw1VVXueR5txyhoaE0aNDArqxMmTJUrFjRVt6rVy8GDRpEhQoVCAsL46mnniI6OpoW/w2HxMTEUL9+fR5++GHGjx9PcnIyI0aMoH///rYevL59+/LOO+8wdOhQHnvsMZYvX86XX37JwoULXfbZRESKZOJEGDjQcV3nzmZyWMySP4A77shftmCB++MQ8SUOl4GpXbs2R44csR0/+uijVK5cmYYNG7o0+btQb7/9Np06daJLly60atWKyMhI5s6da6v39/dnwYIF+Pv7Ex0dTffu3enRowdjx461nRMVFcXChQuJj4+nUaNGvPXWW3z00UdaA1BEvNP77xec/FWtCnPnFsvk73//g8RE83VO+KNGmUu/iIjrOOwBNAz7ldYXLVrEuHHj3BKQIyvO2QuoVKlSTJ06lalTpxb4npo1a+Yb4j1X69at2bx5szNCFBFxDcOAm2+G/xa6z2f1amjZ0r0xOcmJE/Y5rWFAbCw4WGxBRJxMGyqKiHirI0fgv+eYHdq8GRo3dls4znTmDLRpY+72kZeGfkXcw+EQsMViwXLOUMK5xyIi4kK7dxee/G3bVmyTPzC3JN640dzBLseqVRCgbgkRtyhwCPiRRx6xTZg4e/Ysffv2pUyZMnbn5X3uTkREnOTQIbj66oLr//oLqlVzXzxO9u23MHiwfdnHH5sj3SLiHg4TwJ49e9odd9dcfBER95g5Ex59tOD6kyehbFm3heNshgGPP25fdttt8MgjHglHxGc5TAA//vhjd8chIiKLFhWc/FWqBMnJ4O/vuL6YeOMN89HGvPTcn4j7OXwGUERE3KxrV+jY0XHdZ5+ZWVMxT/5WrIBhw+zLJk2CAjZfEhEX0uO2IiKe1qyZOSPCkcmTS8SWGEeOwK232peVKwdPPumZeER8nRJAERFPsVoL79X76Se46Sb3xeMihmHfuWmxQKdOMG9ese/UFCm2lACKiHjCwYP2M3ktFjNTypGSUvgyMMXIo4/C+vW5x4YBs2Yp+RPxJD0DKCLibosX51/GJSf5a9IE0tNLTPL3++/wySf2Zf37Q2ioZ+IREZN6AEVE3On77+H22wuu37TJfbG4WEYGtG+fe2yxQIcO8M47notJREzqARQRcYfMTIiJsc+I8qpVy35bjGLOMMwtinfvti+bM8dzMYlILvUAioi4mCU7m8BzdlKys3x5/imyxdyHH8KGDfZlP/4IYWGeiUdE7KkHUETElU6f5s4uXQqu/+KLEpf8/fsvvPCCfdlrr0Hr1h4JR0QcUA+giIirHDxIQI0aBdenppa42RBWK9x7L/zzT25Zp04wdKjnYhKR/NQDKCLiCiNHQrVqWLKzHdefOFHikj+Ap582d/zIa9YscwKIiHgP9QCKiDhbw4awfbvjushIOHTIvfG4yTvvwNSp9mULF+q5PxFvpB5AERFnSU+H6OiCk79Ro0ps8rdtGzz/vH1Zx47msi8i4n3UAygi4gz79sGVVxZYnbVsGQG33ebGgNwnJQXatYOTJ83j8HCoXRu+/VZDvyLeSj2AIiJFtWhRocnfgjlzMG6+2Y0BuVfjxmYSmOP4cZg9G/z0G0bEa+nHU0TkUhkGjB9vjnU60qQJmadPkx0S4t643OizzyA52Xydk/AtX26uay0i3ktDwCIilyIjA4KDC67/9FN4+GFzB5ASKjERevTIPbZaoXPnEresoUiJpARQRORibdkCTZrkHlssZm9gjp07oV49t4flTsnJ0KKFfVmVKua61iLi/TQELCJyMRYvtk/+wD75y8ws8ckfwAMP2B9HR5v7/gYGeiYeEbk4SgBFRC7U4MFw++2O60aMMBPBgJI/sPLCC7BqlX3ZV19BYdsdi4h3Kfn/UomIFFV2duGJ3Zw50LWr++LxoEmT4NVX7csWLIBq1TwTj4hcGiWAIiKF2bu38Cmt+/bBFVe4LRxPOnwYBgywL+vYseBJ0CLivTQELCJSkNdeKzz5y8z0meTv+HGIiMg99vc3v06b5pFwRKSIlACKiJwrIwPat4fhw+3Lc5Z9uf328w8LlzBt2tgfZ2fDb7/B5Zd7Jh4RKRrf+ddLRORCHDsGFSo4rktPhyVLIDbWvTF5WFwcbNpkXzZsmLndm4gUT0oARURy/PKLua8ZmNtaWK329b/95nNZz6JFMHWqfVnz5jBunGfiERHn0BCwiAiYm9fecEPu8bnJ37//+lzyd+JE/gkeZcrA55+ba1+LSPGlHkAR8W1Wa+6MBjBXMs67fdsDD8CsWfbn+IhzF3uuUQPWr4fKlT0Tj4g4j3oARcR3bduWO+SbI2/yl5hodnf5YPI3fTp8/7192VdfKfkTKSmUAIqIb/rsM7j2WjMJLFXKvq5NG3PIN++QsA/5/nt4/HH7sunTfbY5REokDQGLiG+xWuGWW2D16tyys2dzX995J3zzjfvj8hJpaebQb3CwOekZzGTwscc8G5eIOJcSQBHxHcnJcM01cPRo/rrLL4eZM/MveOdjnn3WnPyRo359ePttz8UjIq6hBFBEfMOKFdCuHWRl5a+75Rb44QefWtjZkcmT8+/s8eOPULasZ+IREdfRM4AiUrIZhrlw8623Ok7+nnzSzHJ8PPn79lt45hlz+UOAkBBIStKkD5GSyrf/xRORku3AAXNId88e87hUqdzn/QID4eBBqFTJc/F5iays3IWdc5Y/nDwZrr7aczGJiGupB1BESqZJkyAqKjf5g9zkr3dvc5avkj8yMqBKFfj559yyzp2hVy/PxSQirqceQBEpWbKzoX9/eP99x/Wff55/hWMfZbVCjx7wzz/25XPneiYeEXEf9QCKSMlx+DDUrZub/AUH59Z16mQO+Sr5sxk7Fr74Ivf4qqvgyBHPxSMi7qMEUERKhptvhogI+yHfnIXsBg+G+fPNsU4B4K+/YMwY+7IpUzQqLuIrNAQsIsXbiRNm8rdtm+P67dvNtf/E5vRpqF7dviwyEjp08Ew8IuJ+6gEUkeLrp5/MXj1HyV+fPuaQsJI/O4YBjz6av3z7dvfHIiKeox5AESl+zp6FLl1g0SLzOCDAfo2///0PunXzTGxerndv+Oor+7IdO6BiRc/EIyKeoQRQRIqX3bvzL1CXk/zVqweJiRAa6v64ioHp080/ef3xB9Ss6ZFwRMSDNAQsIsWDYcBDD+Umf37n/PP17LOwc6eSvwIsWgSPP5577O9v7o6n5E/EN6kHUES8X1KSubxLXjlbVoCZ+NWr596YipFffoGOHc3c+ORJs2zECHMLZBHxTeoBFBHv9vnn+ZO/HA8/DKmpSv4KkZ4OPXtCmTK5yR/AyJGei0lEPE89gCLinXbvhvr17Sd35DVlCsTFuTemYiYtDZo0gd9+yy0LCzN7BP39PReXiHieegBFxLvkfdbPUfLXrBkcPark7wJMmmSf/AG8+y5ccYVHwhERL6IEUES8x++/m7t5zJnjuP7552H9eihf3r1xFUN798KLL9qXvfOOVscREZMSQBHxPKsVBg4seDPamjXNIeFXXnF/bMXQl19CrVqQmZlb9sgj0L+/x0ISES+jZwBFxLN++w3q1Cm4/pVXzJ4/uSCZmfDAA/nL33rL/bGIiPfyuh7AcePGcf311xMaGkrlypW5++67SUpKsjvn7Nmz9O/fn4oVK1K2bFm6dOlCSkqK3TkHDhygY8eOlC5dmsqVKzNkyBCyznmeaMWKFVx33XUEBwdTq1YtZs6c6eqPJyI5DAN69So4+atY0RzHVPJ3UW68MX/Z3r1QoYL7YxER7+V1CeDKlSvp378/P//8M/Hx8WRmZhITE8Pp06dt5wwcOJDvvvuOr776ipUrV3Lw4EHuueceW312djYdO3YkIyODtWvX8sknnzBz5kxGjRplO2ffvn107NiRW2+9lS1btjBgwAAef/xxvv/+e7d+XhGfdPo0XH89zJiRv650aZg6Ff75B6680v2xFWMvvwwbNuQeBwXB2rVqRhHJz+uGgJcsWWJ3PHPmTCpXrszGjRtp1aoVJ06cYPr06cyePZvbbrsNgI8//ph69erx888/06JFC5YuXcrOnTv54YcfiIiIoHHjxrz00ksMGzaM0aNHExQUxLRp04iKiuKt/8ZF6tWrx+rVq3n77beJjY11++cW8QlWK3zxhbkwXd4H1HL062fOVDh3lw85r/nz86/tt3071K7tkXBExMt5XQJ4rhMnTgBQ4b/xi40bN5KZmUnbtm1t59StW5caNWqQkJBAixYtSEhIoGHDhkRERNjOiY2NpV+/fuzYsYMmTZqQkJBgd42ccwYMGFBgLOnp6aSnp9uOU1NTAcjMzCTT0S+zS5RzLWde0xepHYvOqW148iSBFSvaDg2LBYth2I6z5s7F6NQJsrPNPyWEO74Pd+6Evn0DCAyEzEwLAPfdZ+WKK7Id5tnFkX6ei05tmEtt4OUJoNVqZcCAAbRs2ZIGDRoAkJycTFBQEOHh4XbnRkREkJycbDsnb/KXU59TV9g5qampnDlzhpCQkHzxjBs3jjFjxuQrX7p0KaVLl760D1mI+Ph4p1/TF6kdi65IbWgYVF+2jCZTp9oV503+lr7/Pmf8/MwNa0soV30fZmdb6NLlTruyOnWO8uCDP5XI5tTPc9GpDSEtLc3TIXicVyeA/fv3Z/v27axevdrToQAwfPhwBg0aZDtOTU2levXqxMTEEBYW5rT7ZGZmEh8fT7t27QgMDHTadX2N2rHoitqGlmXLCOjQwXZ8bq9f9tChWF96iVstFqfE641c/X3YpUveLT0M6tSBdetCCQm53en38iT9PBed2jBXzgieL/PaBDAuLo4FCxawatUqLr/8clt5ZGQkGRkZHD9+3K4XMCUlhcjISNs569ats7tezizhvOecO3M4JSWFsLAwh71/AMHBwQQHB+crDwwMdMkPk6uu62vUjkV30W146hTcfTcsW2ZXbEv+evWCSZPwL1MGX9mRzBXfh7Nnw3ff5S2x8MMPEBZWcr/f9fNcdGpDfP7zgxfOAjYMg7i4OObNm8fy5cuJioqyq2/atCmBgYEsy/OLJSkpiQMHDhAdHQ1AdHQ027Zt4/Dhw7Zz4uPjCQsLo379+rZzlp3zyyk+Pt52DRG5RMuWQWhovuTPZt8++OgjKFPGvXGVMH/+mX9Xjy+/hDz/XxYRKZDXJYD9+/fnf//7H7NnzyY0NJTk5GSSk5M5c+YMAOXKlaNXr14MGjSIH3/8kY0bN/Loo48SHR1NixYtAIiJiaF+/fo8/PDD/PLLL3z//feMGDGC/v3723rw+vbty++//87QoUP59ddfeffdd/nyyy8ZOHCgxz67SLG2f7+5T+85k6tsPvjAnAWsjWiLbO9eqFHDvmziRLjvPo+EIyLFkNcNAb/33nsAtG7d2q78448/5pFHHgHg7bffxs/Pjy5dupCenk5sbCzvvvuu7Vx/f38WLFhAv379iI6OpkyZMvTs2ZOxY8fazomKimLhwoUMHDiQSZMmcfnll/PRRx9pCRiRi5WVBX37wvTpuWXmdNTc440b4brr3B9bCZSdba6ik9e4cfDMM56JR0SKJ69LAI08D4gXpFSpUkydOpWp58wqzKtmzZosOs8UuNatW7N58+aLjlFE/rNiBdx6a/7ynORv2TL4b71OKTqrFaKjYf16+/JhwzwTj4gUX143BCwixYDVau7kkZP8WSwQkOf/k2+8AWfPKvlzsmuuyZ/8/fmn2fwiIhfD63oARcTLLVgAd95p7uWbwzDMoWCA3buhVi3PxFaCxcfDr7/mHlevDgkJUK2a52ISkeJLPYAicmEOHDB7/O64wz75yzFnjtkzqOTP6TZvhvvvz+3pK1sW1qxR8icil04JoIgUypKdjd+AAVCzpvnM37l69zYTv65dNRbpAvv2QefOcPy4mXf7+cFPP5k9gCIil0pDwCJSIMsPP3Bnly6OK2Nj4bPP4LLL3BuUD0lPN1fV+W8HSwA+/RQaN/ZYSCJSQigBFJH89u2DK68s+B+I77+HmBh3RuRzTp0yR9x//z237MUX8y/+LCJyKTQELCK5TpyAm26CK690XD94MJw8qeTPxaxWuOUW2LAht6xnTxg1ynMxiUjJogRQRMyHy95+G8LDzdkF58h+9lkzOXzjDXMGgriM1Wru8rFpU25Z587w8cfm838iIs6gIWARX/fGGzB0qMMqa5curL7+eqIHDcJfm6e7xYAB8PffucdVqsDXX2t+jYg4lxJAEV/100/QqlXB9Zs2kd2gAcfOs6OOOM///gdTptiXbdum5E9EnE8DCiK+Ji0Nbr+94ORv3DhzUecmTdwbl49bvBgefti+bMQIqFjRM/GISMmmHkARX5GZCQMHwvvv5+7akVeVKubs3+Bg98fm41asMHNyiyV3je0RI+CllzwaloiUYOoBFCnprFaYNg2CgmDq1PzJX7NmsH8/HDyo5M8Dli/P3VI5J/m75hoYO9ZzMYlIyaceQJGSbM0a6NULkpLy1111lbl92/XXuz8uAWDPHmjTxr4sPBxWr9ZzfyLiWuoBFCmJEhOhUiVzTb9zk7969WD+fDP7UPLnMWlpEB1tX9axIxw+bCaBIiKupB5AkZJk+3bo3h1++cVx/TffwB13qHvJwwwDypTJXz5nDmi1HRFxB/UAipQEe/bAbbdBw4b5kz+LxVznLyMD7rxTyZ+HpaXBzTfnL581C0JD3R+PiPgm9QCKFGd798L999tvG5EjNBR++AFuuMH9cYlD2dmOe/6++gruvdf98YiI71IPoEhxlJpq9urVqpU/+QsOhjFj4J9/lPx5EcOAIUNyj3O2dfvkEyV/IuJ+6gEUKU5SU+HVV2HiREhPz18/ZIi5eJyWc/EqhgHDhvkxcaJ9+cyZ0KOHJyISEV+nBFCkODh6FB54wBzSBfvn+AIDYdgws0dQD5F5pddfv56ff/a3Kxs/Hnr29FBAIuLzlACKeLOjR+HFF+Gdd+zLDcMcQ+zZEz78EPz9Hb9fPO6FF/z4+eeqWCwGhmEm7nfcAYMGeTgwEfFpSgBFvNFff0G/frBggXns72/OIMjx8MPwwQdQqpRn4pMLUrcuJCX52yV/XbuaM341GVtEPEmTQES8yeHD0LkzVK+em/xBbvLXu7d5zqefKvnzcuPG5a7BnZP8dehgPvfnp395RcTD9M+QiDfYuRNat4bISHOXjnNNmWLu6fvBB3DZZe6OTi7SggXw/PP2vXy9e2czb57m54iId1ACKOJJa9aYizdfcw2sXJl/G4hp08zELy5OY4bFRFISPPigOWpvGGZZ+/b7mDrVquRPRLyGEkARdzMMczZv3brmXr3bt+fWZWRARARMmABZWfDEE0r8ipHff4dbbjF3+8gZtQ8MNOjde6tnAxMROYcSQBF3sVrh//4PqlWDdu3MrqK8PX7XXgvLl0NyMgwcqJm9xczBg3DVVZCSYv5V+/tDixaQlJSlv0oR8TqaBSziaidOwGuvweTJZtcQmL16hgGZmWbWsHAh1Knj2Tjlkp09a87uzatcOVi0CMqWha3qABQRL6MEUMRVfv3V3LHj/fdzy3ISP8OA228362vX9lSE4gTHjkHz5rB7t3kcEAAVKsD69VC+vJnji4h4GyWAIs5kGJCQYG7JtnatWebnZ44Jgrl0S5cu5jN+ms1b7J05YyZ7Ofz9zRV8Vq2Cyy/3XFwiIuejBFDEGdLT4auvzAWac+T09lmtUKkSPPUUjBypSR0lxNGj0KpV7nFAAISEwHffKfkTEe+nBFCkKLZtgxEjYMkScwYv5CZ+AE2awKRJ5mxfJX4lRkqKuZ3bjh25ZSEhsGuXOcdHRMTbKQEUuVhZWeZs3a5dzQfAzmWxwLBh8MIL5gwAKVFOnoQbbjB368sREwOff24+8yciUhwoARS5UP/+a27FNm+e4/o6deDFF81VgKVESkkxN2vJ4e9vJn8LF6qDV0SKFyWAIuezdCk89hj8/bfj+vbt4d13ISrKvXGJWx06BLfdZj+np2VLmDVLyZ+IFD9KAEUcOXEC3nkH3njDfH2uyy6Dbt1g1CiN+/mANWugbVtzvb8c1apBfDwEBXkuLhGRS6UEUCRHdra5U8fAgeZuHDkTOXIEBppdQMOGwa23eiZGcbsNG8w5PHnVqweJiUr+RKT4UgIosns3vPQSzJ6du4FrXrVrQ9++5r68Zcq4Pz7xmP/7P+jZM3/5jz9CaKj74xERcRYlgOKbTp2C994z/+zbZ5blfZCrTJncnTqqVvVIiOJZH3xg5vzn2rMHIiLcH4+IiDMpARTfkZUF334LTz/teEKHYZjLtnz5JcTGmk/7i0+aM8c++fP3h7Awc9j3qqs8F5eIiLPoN5yUaJbsbCyffmo+xFW6tLkN27nJ37XXwiefmMu8nDwJHToo+fNh77wDDz1k3yF8773mun/atllESgr1AErJY7XCwoX4v/wyd6xfj+XcyRxgTuF88kno1UvjeQKYj3+OHg0vv2we53zbvP66ubWzlnoRkZJECaCUDJmZ8PXX5np8iYmQkeG4e/uWW8yt2Ro1cneE4sWyssxJ3ucaOBCGDnV/PCIirqYEUIqvs2dh5kz46CPYssXxDF7A2qkTfq+8Yg71ipzj99+hc2f7srJlzQWe77zTMzGJiLiaEkApXk6fhg8/NP/8+mvulgx5RUTATTeR+fzzLDpwgNs7dsTPUfeO+LwFC+COO+zLQkPNrZ6bNfNMTCIi7qAEULzf/v3m0O78+eaafY6e6bvqKnjgAfNhrfBwsywzE/78052RSjHy5Zfmt0xetWrBypVa+UdESj4lgOJ9rFb4/nt4/31YscLxVmx+flClCgweDD16QIUKbg9TiifDgLFjzQkfebVtC599BpGRHglLRMStlACKd9i3D2bMgG++gZ07HT/PV768uQXbI49Ax45aqkUuWloa3H23uYdvXmPHwnPPOZ4IIiJSEikBFM84dgymTYOvvjKf5TtzxvF5FSuaK/L26AF16rg3RilR9uwxN3fZvTu3LCgI3noL4uI8F5eIiCcoART3yM42l2kZMQKOH4cjRwo+9847zd06Wrc2t2AQKaLvvzfXAD97NrcsKsr8lmzSxHNxiYh4ihJAcY30dHM498svYe1aOHTI8XmhoXDdddC9O3TrBiEh7o1TSrynn4YpU+zLatWCjRvN7d1ERHyREkBxjuRkcwPVefNg+3ZziNeRgABo3tx8hq9XL6hc2b1xis84eBD69zcnj+c1YQIMGKCdPUTEtykBlIuXnQ2rVpmLqP34Y+HP8EVEQMuW0L493Hdf7hItIi5iGDBxojmpIzMzt7x+ffP/KFoPXERECaCcj9Vqbq22cKE5lLt5s/kMX0GuvBKaNoV77jH/BAW5LVSR3383d/v76y/78gcfhI8/huBgz8QlIuJtlABKruPHzaflf/wRfv7ZnDZ5+nTB55cta+6pe9tt5hP211xjDvGKuJlhwCefQO/e5r6+OUJD4bXXoE8ffWuKiOTl8/8kTp06lTfeeIPk5GQaNWrElClTuOGGGzwdlmsdPWousLxyJaxZYyZ6J0863lYNzIelwsPNZO/mm821NK67Tr174hXWrYMXXoAffrAv79jRnPwRFeWZuEREvJlPJ4BffPEFgwYNYtq0aTRv3pyJEycSGxtLUlISlYv75IT0dPjlF3PYduVKc+j28OGCn9XLUbo0XHEFXH+9mezFxsLll7slZJGLkZQEY8aYz/XlVaOGubbfvfd6Ji4RkeLApxPACRMm0Lt3bx599FEApk2bxsKFC5kxYwbPPfech6M7j7Q0M6lbtszsAtm920zwTp+2f/LdEX9/s0evTh2IjoabbjInalx2mVtCFymKffvgzTfN7aHz8vc3F3R+5RUoU8YzsYmIFBc+mwBmZGSwceNGhg8fbivz8/Ojbdu2JCQkOHxPeno66enptuPU1FQAMjMzyTxf0nURMvfto8WoUfgNHoz1+HEsaWmQkWHOvjUMAApawcIAc8g2MBAjNBQuvxzjhhswWrXCaN4cqlcveHFlJ34Gb5Dzd+LMvxtf4y1tuHkzzJzpx1df+fHPPxbM73Tzp8DPz2DwYCtPP221rSrkTX/l3tKGxZ3asejUhrnUBj6cAP7zzz9kZ2cTERFhVx4REcGvv/7q8D3jxo1jzJgx+cqXLl1K6dKlnRZbpc2babl1K/BfQvcfw2LBCAjAGhBAVkgIGaGhnI6I4Hjt2hy7+mpSo6LICAsreIGznTvNPz4m/tyNX+WieboN3377OlavrkZ2NlgsBoYBNWqcoGXLg9xzz24CAw02bPBoiOfl6TYsKdSORac2hLS0NE+H4HE+mwBeiuHDhzNo0CDbcWpqKtWrVycmJoYwJ24pkHnzzaw7eZIGTzxB4BVXOEzoAv77UxrQwK1jmZmZxMfH065dOwIDAz0dTrHkLW3YogVkZ2eTkQHly5s9fOXKlQZq/ffHe3lLGxZ3aseiUxvmyhnB82U+mwBWqlQJf39/UlJS7MpTUlKIjIx0+J7g4GCCHSwkFhgY6NwfptBQDrVqRZOoKJ//IXUGp//9+CBPt+E5HfXFkqfbsKRQOxad2hCf//wAfp4OwFOCgoJo2rQpy5Yts5VZrVaWLVtGdHS0ByMTERERcS2f7QEEGDRoED179qRZs2bccMMNTJw4kdOnT9tmBYuIiIiURD6dAD7wwAMcOXKEUaNGkZycTOPGjVmyZEm+iSEiIiIiJYlPJ4AAcXFxxMXFeToMEREREbfx2WcARURERHyVEkARERERH6MEUERERMTHKAEUERER8TFKAEVERER8jBJAERERER+jBFBERETExygBFBEREfExSgBFREREfIzP7wRSFIZhAJCamurU62ZmZpKWlkZqaiqBgYFOvbYvUTsWndqw6NSGzqF2LDq1Ya6c39s5v8d9kRLAIjh58iQA1atX93AkIiIicrFOnjxJuXLlPB2GR1gMX05/i8hqtXLw4EFCQ0OxWCxOu25qairVq1fnzz//JCwszGnX9TVqx6JTGxad2tA51I5FpzbMZRgGJ0+epGrVqvj5+ebTcOoBLAI/Pz8uv/xyl10/LCzM539InUHtWHRqw6JTGzqH2rHo1IYmX+35y+Gbaa+IiIiID1MCKCIiIuJjlAB6oeDgYF588UWCg4M9HUqxpnYsOrVh0akNnUPtWHRqQ8lLk0BEREREfIx6AEVERER8jBJAERERER+jBFBERETExygBFBEREfExSgC90NSpU7niiisoVaoUzZs3Z926dZ4OyWuNHj0ai8Vi96du3bq2+rNnz9K/f38qVqxI2bJl6dKlCykpKR6M2PNWrVrFHXfcQdWqVbFYLMyfP9+u3jAMRo0aRZUqVQgJCaFt27bs3r3b7pyjR4/SrVs3wsLCCA8Pp1evXpw6dcqNn8LzzteOjzzySL7vzfbt29ud4+vtOG7cOK6//npCQ0OpXLkyd999N0lJSXbnXMjP8IEDB+jYsSOlS5emcuXKDBkyhKysLHd+FI+5kDZs3bp1vu/Fvn372p3jy23oq5QAepkvvviCQYMG8eKLL7Jp0yYaNWpEbGwshw8f9nRoXuuaa67h0KFDtj+rV6+21Q0cOJDvvvuOr776ipUrV3Lw4EHuueceD0breadPn6ZRo0ZMnTrVYf348eOZPHky06ZNIzExkTJlyhAbG8vZs2dt53Tr1o0dO3YQHx/PggULWLVqFX369HHXR/AK52tHgPbt29t9b86ZM8eu3tfbceXKlfTv35+ff/6Z+Ph4MjMziYmJ4fTp07ZzzvcznJ2dTceOHcnIyGDt2rV88sknzJw5k1GjRnniI7ndhbQhQO/eve2+F8ePH2+r8/U29FmGeJUbbrjB6N+/v+04OzvbqFq1qjFu3DgPRuW9XnzxRaNRo0YO644fP24EBgYaX331la1s165dBmAkJCS4KULvBhjz5s2zHVutViMyMtJ44403bGXHjx83goODjTlz5hiGYRg7d+40AGP9+vW2cxYvXmxYLBbj77//dlvs3uTcdjQMw+jZs6dx1113FfgetWN+hw8fNgBj5cqVhmFc2M/wokWLDD8/PyM5Odl2znvvvWeEhYUZ6enp7v0AXuDcNjQMw7jllluMZ555psD3qA19k3oAvUhGRgYbN26kbdu2tjI/Pz/atm1LQkKCByPzbrt376Zq1apceeWVdOvWjQMHDgCwceNGMjMz7dqzbt261KhRQ+1ZgH379pGcnGzXZuXKlaN58+a2NktISCA8PJxmzZrZzmnbti1+fn4kJia6PWZvtmLFCipXrkydOnXo168f//77r61O7ZjfiRMnAKhQoQJwYT/DCQkJNGzYkIiICNs5sbGxpKamsmPHDjdG7x3ObcMcs2bNolKlSjRo0IDhw4eTlpZmq1Mb+qYATwcguf755x+ys7PtfggBIiIi+PXXXz0UlXdr3rw5M2fOpE6dOhw6dIgxY8Zw8803s337dpKTkwkKCiI8PNzuPRERESQnJ3smYC+X0y6Ovgdz6pKTk6lcubJdfUBAABUqVFC75tG+fXvuueceoqKi2Lt3L88//zwdOnQgISEBf39/teM5rFYrAwYMoGXLljRo0ADggn6Gk5OTHX6/5tT5EkdtCPDQQw9Rs2ZNqlatytatWxk2bBhJSUnMnTsXUBv6KiWAUqx16NDB9vraa6+lefPm1KxZky+//JKQkBAPRia+rmvXrrbXDRs25Nprr+Wqq65ixYoVtGnTxoOReaf+/fuzfft2u2d45eIU1IZ5nytt2LAhVapUoU2bNuzdu5errrrK3WGKl9AQsBepVKkS/v7++Wa4paSkEBkZ6aGoipfw8HCuvvpq9uzZQ2RkJBkZGRw/ftzuHLVnwXLapbDvwcjIyHyTkrKysjh69KjatRBXXnkllSpVYs+ePYDaMa+4uDgWLFjAjz/+yOWXX24rv5Cf4cjISIffrzl1vqKgNnSkefPmAHbfi2pD36ME0IsEBQXRtGlTli1bZiuzWq0sW7aM6OhoD0ZWfJw6dYq9e/dSpUoVmjZtSmBgoF17JiUlceDAAbVnAaKiooiMjLRrs9TUVBITE21tFh0dzfHjx9m4caPtnOXLl2O1Wm2/WCS/v/76i3///ZcqVaoAakcwlxyKi4tj3rx5LF++nKioKLv6C/kZjo6OZtu2bXbJdHx8PGFhYdSvX989H8SDzteGjmzZsgXA7nvRl9vQZ3l6ForY+/zzz43g4GBj5syZxs6dO40+ffoY4eHhdrOzJNezzz5rrFixwti3b5+xZs0ao23btkalSpWMw4cPG4ZhGH379jVq1KhhLF++3NiwYYMRHR1tREdHezhqzzp58qSxefNmY/PmzQZgTJgwwdi8ebOxf/9+wzAM47XXXjPCw8ONb775xti6datx1113GVFRUcaZM2ds12jfvr3RpEkTIzEx0Vi9erVRu3Zt48EHH/TUR/KIwtrx5MmTxuDBg42EhARj3759xg8//GBcd911Ru3atY2zZ8/aruHr7divXz+jXLlyxooVK4xDhw7Z/qSlpdnOOd/PcFZWltGgQQMjJibG2LJli7FkyRLjsssuM4YPH+6Jj+R252vDPXv2GGPHjjU2bNhg7Nu3z/jmm2+MK6+80mjVqpXtGr7ehr5KCaAXmjJlilGjRg0jKCjIuOGGG4yff/7Z0yF5rQceeMCoUqWKERQUZFSrVs144IEHjD179tjqz5w5Yzz55JNG+fLljdKlSxudO3c2Dh065MGIPe/HH380gHx/evbsaRiGuRTMyJEjjYiICCM4ONho06aNkZSUZHeNf//913jwwQeNsmXLGmFhYcajjz5qnDx50gOfxnMKa8e0tDQjJibGuOyyy4zAwECjZs2aRu/evfP9R87X29FR+wHGxx9/bDvnQn6G//jjD6NDhw5GSEiIUalSJePZZ581MjMz3fxpPON8bXjgwAGjVatWRoUKFYzg4GCjVq1axpAhQ4wTJ07YXceX29BXWQzDMNzX3ygiIiIinqZnAEVERER8jBJAERERER+jBFBERETExygBFBEREfExSgBFREREfIwSQBEREREfowRQRERExMcoARQRERHxMUoARURERHyMEkARKVDr1q0ZMGCA116vJBs8eDB33333BZ/funVrLBYLFouFLVu2uCyuHI888ojtfvPnz3f5/UTEuZQAivigvL+8AwMDiYiIoF27dsyYMQOr1Wo7b+7cubz00ksejLT4Kmqyu2XLFq699tqLek/v3r05dOgQDRo0uOT7XqhJkyZx6NAhl99HRFxDCaCIj2rfvj2HDh3ijz/+YPHixdx6660888wzdOrUiaysLAAqVKhAaGiohyP1Tb/88guNGjW6qPeULl2ayMhIAgICXBRVrnLlyhEZGeny+4iIaygBFPFRwcHBREZGUq1aNa677jqef/55vvnmGxYvXszMmTOB/L1Y//d//0fDhg0JCQmhYsWKtG3bltOnT9vOjYuLIy4ujnLlylGpUiVGjhyJYRgFxrBkyRJuuukmwsPDqVixIp06dWLv3r22eqvVyvjx46lVqxbBwcHUqFGDV155xa5+3LhxREVFERISQqNGjfi///s/u3u0bt2ap556igEDBlC+fHkiIiL48MMPOX36NI8++iihoaHUqlWLxYsXX/R1n376aYYOHUqFChWIjIxk9OjRgNnDunLlSiZNmmTraf3jjz8u+O/mr7/+4p9//gGgXbt2lC5dmjp16pCYmHjB1zhfjEVpHxEp/pQAiojNbbfdRqNGjZg7d26+ukOHDvHggw/y2GOPsWvXLlasWME999xjl+B98sknBAQEsG7dOiZNmsSECRP46KOPCrzf6dOnGTRoEBs2bGDZsmX4+fnRuXNn2zD08OHDee211xg5ciQ7d+5k9uzZRERE2N4/btw4Pv30U6ZNm8aOHTsYOHAg3bt3Z+XKlXb3+eSTT6hUqRLr1q3jqaeeol+/ftx3333ceOONbNq0iZiYGB5++GHS0tIu+rplypQhMTGR8ePHM3bsWOLj45k0aRLR0dG2IdlDhw5RvXr1C/57yHmGb+rUqTz//PP88ssv1KhRg+eee+6Cr3G+GIvSPiJSAhgi4nN69uxp3HXXXQ7rHnjgAaNevXqGYRjGLbfcYjzzzDOGYRjGxo0bDcD4448/HL7vlltuMerVq2dYrVZb2bBhw2zXOvd6jhw5csQAjG3bthmpqalGcHCw8eGHHzo89+zZs0bp0qWNtWvX2pX36tXLePDBB+3uedNNN9mOs7KyjDJlyhgPP/ywrezQoUMGYCQkJFzydQ3DMK6//npj2LBhF/RZC/PSSy8ZFSpUMI4cOWIrmzx5snHNNdcU+B5H9ztfjI7OOV/7nAsw5s2bd6EfTUS8hOsfFBGRYsUwDCwWS77yRo0a0aZNGxo2bEhsbCwxMTHce++9lC9f3nZOixYt7N4bHR3NW2+9RXZ2Nv7+/vmuuXv3bkaNGkViYiL//POPrefvwIEDpKWlkZ6eTps2bRzGuWfPHtLS0mjXrp1deUZGBk2aNLEryzuZwt/fn4oVK9KwYUNbWU6v4uHDhy/5ugBVqlTh8OHDDuO9GFu2bOGuu+6iUqVKtrJ9+/ZRq1ati77WhcR4Me0jIiWDEkARsbNr1y6ioqLylfv7+xMfH8/atWtZunQpU6ZM4YUXXiAxMdHh+RfijjvuoGbNmnz44YdUrVoVq9VKgwYNyMjIICQkpND3njp1CoCFCxdSrVo1u7rg4GC748DAQLvjnNnPeY/BfPavqNfNO4v6Um3ZsoWhQ4fmK2vVqtVFX+tCYryY9hGRkkHPAIqIzfLly9m2bRtdunRxWG+xWGjZsiVjxoxh8+bNBAUFMW/ePFv9uZMUfv75Z2rXru2w9+/ff/8lKSmJESNG0KZNG+rVq8exY8ds9bVr1yYkJIRly5Y5jKV+/foEBwdz4MABatWqZffnYp63c9V1g4KCyM7Ovuj7nzx5kt9//z1fb+OWLVto3LjxRV9PRMQR9QCK+Kj09HSSk5PJzs4mJSWFJUuWMG7cODp16kSPHj3ynZ+YmMiyZcuIiYmhcuXKJCYmcuTIEerVq2c758CBAwwaNIgnnniCTZs2MWXKFN566y2H9y9fvjwVK1bkgw8+oEqVKhw4cMBukkOpUqUYNmwYQ4cOJSgoiJYtW3LkyBF27NhBr169CA0NZfDgwQwcOBCr1cpNN93EiRMnWLNmDWFhYfTs2fOS2sVZ173iiitITEzkjz/+oGzZslSoUAE/v/P/n/uXX37B39/fbgh2//79HDt2TAmgiDiNEkARH7VkyRKqVKlCQEAA5cuXp1GjRkyePJmePXs6TFTCwsJYtWoVEydOJDU1lZo1a/LWW2/RoUMH2zk9evTgzJkz3HDDDfj7+/PMM8/Qp08fh/f38/Pj888/5+mnn6ZBgwbUqVOHyZMn07p1a9s5I0eOJCAggFGjRnHw4EGqVKlC3759bfUvvfQSl112GePGjeP3338nPDzctqRNUTjjuoMHD6Znz57Ur1+fM2fOsG/fPq644gpmzpzJo48+WuDyOFu2bKFOnTqUKlXKVrZ582bCw8O54oorivS5RERyWIyC/hUSEbkIrVu3pnHjxkycONHToXi1F198kZUrV7JixQqnXtdT7W+xWJg3b95FbVsnIp6nZwBFRNxo8eLFjB8/3iXXfvfddylbtizbtm1zyfXz6tu3L2XLlnX5fUTENdQDKCJOoR5Az/r77785c+YMADVq1CAoKMil9zt8+DCpqamAubRMmTJlXHo/EXEuJYAiIiIiPkZDwCIiIiI+RgmgiIiIiI9RAigiIiLiY5QAioiIiPgYJYAiIiIiPkYJoIiIiIiPUQIoIiIi4mP+H9Wyh0AALXOcAAAAAElFTkSuQmCC' width=640.0/>\n",
       "            </div>\n",
       "        "
      ],
      "text/plain": [
       "Canvas(toolbar=Toolbar(toolitems=[('Home', 'Reset original view', 'home', 'home'), ('Back', 'Back to previous …"
      ]
     },
     "metadata": {},
     "output_type": "display_data"
    }
   ],
   "source": [
    "plot_reject = False\n",
    "colors = \"rgb\"\n",
    "fig = plt.figure()\n",
    "ax = fig.add_subplot(1, 1, 1)\n",
    "tests = batch.tests\n",
    "Ntests = len(tests)\n",
    "for Nt in range(Ntests):\n",
    "    test = tests[Nt]\n",
    "    if plot_reject == False and test.reject == False:\n",
    "        test_data = test.data\n",
    "        test_structure = [step.kind() for step in test.steps]\n",
    "        for step_id, step_data in test_data.groupby(\"step\"):\n",
    "            ax.plot(\n",
    "                step_data.disp * 1.0e9,\n",
    "                step_data.force * 1.0e6,\n",
    "                \"-\",\n",
    "                lw=1.0,\n",
    "                color=colors[step_id%len(colors)],\n",
    "            )\n",
    "            \n",
    "\n",
    "ax.grid()\n",
    "ax.set_xlabel(\"Displacement, $h$ [nm]\")\n",
    "ax.set_ylabel(\"Force, $P$ [µN]\")\n",
    "#plt.savefig(\"experimental_batch.png\")\n",
    "plt.show()"
   ]
  },
  {
   "cell_type": "code",
   "execution_count": 47,
   "id": "0040731d-bc0e-4239-9987-592e96492075",
   "metadata": {},
   "outputs": [
    {
     "name": "stdout",
     "output_type": "stream",
     "text": [
      "                 C        htrunc    Pm            hm  reject             W\n",
      "test                                                                      \n",
      "0     1.444014e+11  1.500000e-08  0.01  2.739192e-07     0.0  9.645780e-10\n",
      "1     1.432250e+11  1.500000e-08  0.01  2.745705e-07     0.0  9.647903e-10\n",
      "2     1.477416e+11  1.500000e-08  0.01  2.727414e-07     0.0  9.715798e-10\n",
      "3     1.466159e+11  1.500000e-08  0.01  2.734625e-07     0.0  9.724532e-10\n"
     ]
    }
   ],
   "source": [
    "loading_data = batch.collect_steps(0).parabolic_fit(displim = 50.e-9, htrunc = batch.tip.htrunc)\n",
    "loading_data.index = loading_data.index.droplevel(1)\n",
    "print(loading_data)"
   ]
  },
  {
   "cell_type": "code",
   "execution_count": null,
   "id": "4b102488-35f7-434c-901e-5b45e155edc7",
   "metadata": {},
   "outputs": [],
   "source": []
  }
 ],
 "metadata": {
  "kernelspec": {
   "display_name": "Python 3 (ipykernel)",
   "language": "python",
   "name": "python3"
  },
  "language_info": {
   "codemirror_mode": {
    "name": "ipython",
    "version": 3
   },
   "file_extension": ".py",
   "mimetype": "text/x-python",
   "name": "python",
   "nbconvert_exporter": "python",
   "pygments_lexer": "ipython3",
   "version": "3.11.3"
  }
 },
 "nbformat": 4,
 "nbformat_minor": 5
}
